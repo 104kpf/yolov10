{
 "cells": [
  {
   "cell_type": "code",
   "execution_count": 1,
   "metadata": {},
   "outputs": [
    {
     "name": "stdout",
     "output_type": "stream",
     "text": [
      "當前工作目錄: /home/ldsc/chuweihuang/src/yolov10\n"
     ]
    }
   ],
   "source": [
    "import os\n",
    "\n",
    "# 查看當前工作目錄\n",
    "current_directory = os.getcwd()\n",
    "print(\"當前工作目錄:\", current_directory)"
   ]
  },
  {
   "cell_type": "code",
   "execution_count": 3,
   "metadata": {},
   "outputs": [
    {
     "name": "stdout",
     "output_type": "stream",
     "text": [
      "done\n"
     ]
    }
   ],
   "source": [
    "import zipfile\n",
    "import os\n",
    "\n",
    "# 壓縮檔的路徑\n",
    "zip_file_path = '/home/ldsc/chuweihuang/src/yolov10/yolov10.v2i.yolov8.zip'\n",
    "# 解壓後檔案儲存的目標資料夾\n",
    "extract_to = './yolov10testv2'\n",
    "\n",
    "# 確認目標資料夾存在，不存在則創建\n",
    "os.makedirs(extract_to, exist_ok=True)\n",
    "\n",
    "with zipfile.ZipFile(zip_file_path, 'r') as zip_ref:\n",
    "    zip_ref.extractall(extract_to)\n",
    "\n",
    "print(\"done\")"
   ]
  }
 ],
 "metadata": {
  "kernelspec": {
   "display_name": "Python 3",
   "language": "python",
   "name": "python3"
  },
  "language_info": {
   "codemirror_mode": {
    "name": "ipython",
    "version": 3
   },
   "file_extension": ".py",
   "mimetype": "text/x-python",
   "name": "python",
   "nbconvert_exporter": "python",
   "pygments_lexer": "ipython3",
   "version": "3.9.18"
  }
 },
 "nbformat": 4,
 "nbformat_minor": 2
}
